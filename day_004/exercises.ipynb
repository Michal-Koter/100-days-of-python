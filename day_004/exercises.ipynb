{
 "cells": [
  {
   "cell_type": "markdown",
   "source": [
    "# Exercises Day 4"
   ],
   "metadata": {
    "collapsed": false
   },
   "id": "cc4985a25e73f45e"
  },
  {
   "cell_type": "markdown",
   "source": [
    "## Heads or Tails\n",
    "\n",
    "### Instructions\n",
    "You are going to write a virtual coin toss program. It will randomly tell the user \"Heads\" or \"Tails\".\n",
    "\n",
    "Important, the first letter should be capitalised and spelt exactly like in the example e.g. \"Heads\", not \"heads\".\n",
    "\n",
    "There are many ways of doing this. But to practice what we learnt in the last lesson, you should generate a random number, either 0 or 1. Then use that number to print out \"Heads\" or \"Tails\".\n",
    "\n",
    "e.g. 1 means Heads 0 means Tails\n",
    "\n",
    "### Example Output\n",
    "`Heads` or `Tails`"
   ],
   "metadata": {
    "collapsed": false
   },
   "id": "a3a99eede204db08"
  },
  {
   "cell_type": "code",
   "execution_count": 14,
   "id": "initial_id",
   "metadata": {
    "collapsed": true,
    "ExecuteTime": {
     "end_time": "2024-02-18T18:21:11.610538200Z",
     "start_time": "2024-02-18T18:21:11.607511800Z"
    }
   },
   "outputs": [
    {
     "name": "stdout",
     "output_type": "stream",
     "text": [
      "Heads\n"
     ]
    }
   ],
   "source": [
    "import random\n",
    "\n",
    "if random.randint(0,1):\n",
    "    print(\"Heads\")\n",
    "else:\n",
    "    print(\"Tails\")"
   ]
  },
  {
   "cell_type": "markdown",
   "source": [
    "## Banker Roulette\n",
    "\n",
    "### Instructions\n",
    "You are going to write a program that will select a random name from a list of names. The person selected will have to pay for everybody's food bill.\n",
    "\n",
    "Important: You are not allowed to use the choice() function.\n",
    "\n",
    "Line 1 splits the string names_string into individual names and puts them inside a List called names. For this to work, you must enter all the names as names followed by comma then space. e.g. name, name, name\n",
    "\n",
    "### Example Input\n",
    "`Angela, Ben, Jenny, Michael, Chloe`\n",
    "Note: notice that there is a space between the comma and the next name.\n",
    "\n",
    "### Example Output\n",
    "`Michael is going to buy the meal today!`\n"
   ],
   "metadata": {
    "collapsed": false
   },
   "id": "834c309999cb8398"
  },
  {
   "cell_type": "code",
   "outputs": [
    {
     "name": "stdout",
     "output_type": "stream",
     "text": [
      "Jenny is going to buy the meal today!\n"
     ]
    }
   ],
   "source": [
    "import random\n",
    "\n",
    "names_string = input()\n",
    "names = names_string.split(\", \")\n",
    "\n",
    "random_choice = random.randint(0, len(names)-1)\n",
    "\n",
    "print(f\"{names[random_choice]} is going to buy the meal today!\")"
   ],
   "metadata": {
    "collapsed": false,
    "ExecuteTime": {
     "end_time": "2024-02-18T18:33:37.321760400Z",
     "start_time": "2024-02-18T18:33:33.239391800Z"
    }
   },
   "id": "ec4ef900a04e2aa0",
   "execution_count": 16
  },
  {
   "cell_type": "markdown",
   "source": [
    "## Treasure Map\n",
    "\n",
    "### Instructions\n",
    "\n",
    "You are going to write a program that will mark a spot on a map with an X.\n",
    "\n",
    "In the starting code, you will find a variable called map.\n",
    "\n",
    "This map contains a nested list. When map is printed this is what it looks like, notice the nesting:\n",
    "\n",
    "`[['⬜️', '⬜️', '⬜️'],['⬜️', '⬜️', '⬜️'],['⬜️', '⬜️', '⬜️']]`\n",
    "\n",
    "Your job is to write a program that allows you to mark a square on the map using a letter-number system.\n",
    "\n",
    "Next, you need to use that input to update your nested list with an \"X\"\n",
    "\n",
    "### Example Input 1\n",
    "B3\n",
    "### Example Output 1\n",
    "Hiding your treasure! X marks the spot.\n",
    "```\n",
    "['⬜️', '️⬜️', '️⬜️']\n",
    "['⬜️', '⬜️', '️⬜️']\n",
    "['⬜️️', 'X', '⬜️️']\n",
    "```\n",
    "### Example Input 2\n",
    "B1\n",
    "### Example Output 2\n",
    "Hiding your treasure! X marks the spot.\n",
    "```\n",
    "['⬜️', 'X', '️⬜️']\n",
    "['⬜️', '⬜️', '️⬜️']\n",
    "['⬜️️', '⬜️️', '⬜️️']\n",
    "```"
   ],
   "metadata": {
    "collapsed": false
   },
   "id": "292c8ddf20a79879"
  },
  {
   "cell_type": "code",
   "outputs": [
    {
     "name": "stdout",
     "output_type": "stream",
     "text": [
      "Hiding your treasure! X marks the spot.\n",
      "['⬜️', 'X', '️⬜️']\n",
      "['⬜️', '⬜️', '️⬜️']\n",
      "['⬜️️', '⬜️️', '⬜️️']\n"
     ]
    }
   ],
   "source": [
    "line1 = [\"⬜️\",\"️⬜️\",\"️⬜️\"]\n",
    "line2 = [\"⬜️\",\"⬜️\",\"️⬜️\"]\n",
    "line3 = [\"⬜️️\",\"⬜️️\",\"⬜️️\"]\n",
    "map = [line1, line2, line3]\n",
    "print(\"Hiding your treasure! X marks the spot.\")\n",
    "position = input() # Where do you want to put the treasure?\n",
    "# 🚨 Don't change the code above 👆\n",
    "# Write your code below this row 👇\n",
    "\n",
    "letter = position[0].lower()\n",
    "abc = [\"a\", \"b\", \"c\"]\n",
    "letter_index = abc.index(letter)\n",
    "\n",
    "number_index = int(position[1]) - 1\n",
    "    \n",
    "map[number_index][letter_index] = 'X'\n",
    "\n",
    "# Write your code above this row 👆\n",
    "# 🚨 Don't change the code below 👇\n",
    "print(f\"{line1}\\n{line2}\\n{line3}\")"
   ],
   "metadata": {
    "collapsed": false,
    "ExecuteTime": {
     "end_time": "2024-02-18T18:49:22.807319600Z",
     "start_time": "2024-02-18T18:49:21.226450900Z"
    }
   },
   "id": "b1f376779db90d81",
   "execution_count": 21
  }
 ],
 "metadata": {
  "kernelspec": {
   "display_name": "Python 3",
   "language": "python",
   "name": "python3"
  },
  "language_info": {
   "codemirror_mode": {
    "name": "ipython",
    "version": 2
   },
   "file_extension": ".py",
   "mimetype": "text/x-python",
   "name": "python",
   "nbconvert_exporter": "python",
   "pygments_lexer": "ipython2",
   "version": "2.7.6"
  }
 },
 "nbformat": 4,
 "nbformat_minor": 5
}
