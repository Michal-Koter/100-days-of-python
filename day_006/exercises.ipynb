{
 "cells": [
  {
   "cell_type": "markdown",
   "source": [
    "# Exercises Day 6"
   ],
   "metadata": {
    "collapsed": false
   },
   "id": "87d5c5a26aa62916"
  },
  {
   "cell_type": "markdown",
   "source": [
    "## Hurdles Challenge\n",
    "\n",
    "Code for Reeborg's World\n",
    "\n",
    "https://reeborg.ca/reeborg.html?lang=en&mode=python&menu=worlds%2Fmenus%2Freeborg_intro_en.json&name=Hurdle%202&url=worlds%2Ftutorial_en%2Fhurdle2.json"
   ],
   "metadata": {
    "collapsed": false
   },
   "id": "99ca76e31b60ce7"
  },
  {
   "cell_type": "code",
   "execution_count": null,
   "id": "initial_id",
   "metadata": {
    "collapsed": true
   },
   "outputs": [],
   "source": [
    "def turn_right():\n",
    "    turn_left()\n",
    "    turn_left()\n",
    "    turn_left()\n",
    "    \n",
    "while not at_goal():\n",
    "    move()\n",
    "    turn_left()\n",
    "    move()\n",
    "    turn_right()\n",
    "    move()\n",
    "    turn_right()\n",
    "    move()"
   ]
  },
  {
   "cell_type": "markdown",
   "source": [
    "## Jump Over Hurdles\n",
    "\n",
    "Code for Reeborg's World\n",
    "\n",
    "https://reeborg.ca/reeborg.html?lang=en&mode=python&menu=worlds%2Fmenus%2Freeborg_intro_en.json&name=Hurdle%204&url=worlds%2Ftutorial_en%2Fhurdle4.json"
   ],
   "metadata": {
    "collapsed": false
   },
   "id": "2dcb0994fef0d469"
  },
  {
   "cell_type": "code",
   "outputs": [],
   "source": [
    "def turn_right():\n",
    "    turn_left()\n",
    "    turn_left()\n",
    "    turn_left()\n",
    "\n",
    "def jump():\n",
    "    while wall_on_right():\n",
    "        move()\n",
    "    turn_right()\n",
    "    move()\n",
    "    turn_right()\n",
    "    while front_is_clear():\n",
    "        move()\n",
    "    turn_left()\n",
    "    \n",
    "while not at_goal():\n",
    "    if front_is_clear():\n",
    "        move()\n",
    "    else:\n",
    "        turn_left()\n",
    "        jump()"
   ],
   "metadata": {
    "collapsed": false
   },
   "id": "a8f977477c2a38c7"
  },
  {
   "cell_type": "markdown",
   "source": [
    "## Escape the Maze\n",
    "\n",
    "Code for Reeborg's World\n",
    "\n",
    "https://reeborg.ca/reeborg.html?lang=en&mode=python&menu=worlds%2Fmenus%2Freeborg_intro_en.json&name=Maze&url=worlds%2Ftutorial_en%2Fmaze1.json"
   ],
   "metadata": {
    "collapsed": false
   },
   "id": "198f6179ab801763"
  },
  {
   "cell_type": "code",
   "outputs": [],
   "source": [
    "def turn_right():\n",
    "    turn_left()\n",
    "    turn_left()\n",
    "    turn_left()\n",
    "\n",
    "while front_is_clear():\n",
    "    move()\n",
    "\n",
    "turn_left()\n",
    "    \n",
    "while not at_goal():\n",
    "    if right_is_clear():\n",
    "        turn_right()\n",
    "        move()\n",
    "    elif front_is_clear():\n",
    "        move()\n",
    "    else:\n",
    "        turn_left()"
   ],
   "metadata": {
    "collapsed": false
   },
   "id": "67596889e31927f3"
  }
 ],
 "metadata": {
  "kernelspec": {
   "display_name": "Python 3",
   "language": "python",
   "name": "python3"
  },
  "language_info": {
   "codemirror_mode": {
    "name": "ipython",
    "version": 2
   },
   "file_extension": ".py",
   "mimetype": "text/x-python",
   "name": "python",
   "nbconvert_exporter": "python",
   "pygments_lexer": "ipython2",
   "version": "2.7.6"
  }
 },
 "nbformat": 4,
 "nbformat_minor": 5
}
