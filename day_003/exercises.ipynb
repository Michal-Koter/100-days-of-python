{
 "cells": [
  {
   "cell_type": "markdown",
   "source": [
    "# Exercises Day 2"
   ],
   "metadata": {
    "collapsed": false
   },
   "id": "12c0c376051eafb6"
  },
  {
   "cell_type": "markdown",
   "source": [
    "## Odd or Even\n",
    "\n",
    "### Instructions\n",
    "Write a program that works out whether if a given number is an odd or even number.\n",
    "\n",
    "Even numbers can be divided by 2 with no remainder.\n",
    "\n",
    "### Example 1 Input\n",
    "43\n",
    "### Example 1 Output\n",
    "This is an odd number.\n",
    "### Example 2 Input\n",
    "94\n",
    "### Example 2 Output\n",
    "This is an even number."
   ],
   "metadata": {
    "collapsed": false
   },
   "id": "91fa321d9017d4a9"
  },
  {
   "cell_type": "code",
   "execution_count": 2,
   "id": "initial_id",
   "metadata": {
    "collapsed": true,
    "ExecuteTime": {
     "end_time": "2024-02-18T13:28:37.104450300Z",
     "start_time": "2024-02-18T13:28:35.727943Z"
    }
   },
   "outputs": [
    {
     "name": "stdout",
     "output_type": "stream",
     "text": [
      "This is an even number.\n"
     ]
    }
   ],
   "source": [
    "# Which number do you want to check?\n",
    "number = int(input())\n",
    "# 🚨 Don't change the code above 👆\n",
    "\n",
    "# Write your code below this line 👇\n",
    "\n",
    "if number % 2 == 0:\n",
    "    print(\"This is an even number.\")\n",
    "else:\n",
    "    print(\"This is an odd number.\")"
   ]
  },
  {
   "cell_type": "markdown",
   "source": [
    "## BMI 2.0\n",
    "\n",
    "### Instructions\n",
    "Write a program that interprets the Body Mass Index (BMI) based on a user's weight and height.\n",
    "\n",
    "It should tell them the interpretation of their BMI based on the BMI value.\n",
    "\n",
    "* Under 18.5 they are underweight\n",
    "* Over 18.5 but below 25 they have a normal weight\n",
    "* Equal to or over 25 but below 30 they are slightly overweight\n",
    "* Equal to or over 30 but below 35 they are obese\n",
    "* Equal to or over 35 they are clinically obese.\n",
    "\n",
    "The BMI is calculated by dividing a person's weight (in kg) by the square of their height (in m):\n",
    "\n",
    "BMI = weight(kg) / height<sup>2</sup> (m<sup>2</sup>)\n",
    "\n",
    "The testing code will check for print output that is formatted like one of the lines below:\n",
    "\n",
    "\"Your BMI is 18.28678, you are underweight.\"\n",
    "\"Your BMI is 22.0, you have a normal weight.\"\n",
    "\"Your BMI is 28.50752, you are slightly overweight.\"\n",
    "\"Your BMI is 32.56189, you are obese.\"\n",
    "\"Your BMI is 37.50000, you are clinically obese.\"\n",
    "\n",
    "### Example Input 1\n",
    "1.50\n",
    "63\n",
    "### Example Output 1\n",
    "Your BMI is 28.0, you are slightly overweight.\n",
    "### Example Input 2\n",
    "1.60\n",
    "96\n",
    "### Example Output 2\n",
    "Your BMI is 37.49999999999999, you are clinically obese.\n",
    "### Example Input 3\n",
    "1.71\n",
    "73\n",
    "### Example Output 3\n",
    "Your BMI is 24.96494647925858, you have a normal weight."
   ],
   "metadata": {
    "collapsed": false
   },
   "id": "35dc5d37b42d9c35"
  },
  {
   "cell_type": "code",
   "outputs": [
    {
     "name": "stdout",
     "output_type": "stream",
     "text": [
      "Your bmi is 0.0013850415512465374, you are underweight\n"
     ]
    }
   ],
   "source": [
    "# Enter your height in meters e.g., 1.55\n",
    "height = float(input())\n",
    "# Enter your weight in kilograms e.g., 72\n",
    "weight = int(input())\n",
    "# 🚨 Don't change the code above 👆\n",
    "\n",
    "#Write your code below this line 👇\n",
    "bmi = float(weight) / float(height)**2\n",
    "\n",
    "message = f\"Your BMI is {bmi},\"\n",
    "\n",
    "if bmi < 18.5:\n",
    "    print(message, \"you are underweight.\")\n",
    "elif bmi < 25:\n",
    "    print(message, \"you have a normal weight.\")\n",
    "elif bmi < 30:\n",
    "    print(message, \"you are slightly overweight.\")\n",
    "elif bmi < 35:\n",
    "    print(message, \"you are obese.\")\n",
    "else:\n",
    "    print(message, \"you are clinically obese.\")"
   ],
   "metadata": {
    "collapsed": false,
    "ExecuteTime": {
     "end_time": "2024-02-18T13:37:23.644031200Z",
     "start_time": "2024-02-18T13:37:20.032859600Z"
    }
   },
   "id": "1b9af8ea686c3f",
   "execution_count": 4
  },
  {
   "cell_type": "markdown",
   "source": [
    "## Leap Year\n",
    "\n",
    "### Instructions\n",
    "\n",
    "Write a program that works out whether if a given year is a leap year. A normal year has 365 days, leap years have 366, with an extra day in February. The reason why we have leap years is really fascinating, this video does it more justice.\n",
    "\n",
    "This is how you work out whether if a particular year is a leap year.\n",
    "\n",
    "on every year that is divisible by 4 with no remainder\n",
    "\n",
    "except every year that is evenly divisible by 100 with no remainder\n",
    "\n",
    "unless the year is also divisible by 400 with no remainder\n",
    "\n",
    "### Example Input 1\n",
    "2400\n",
    "### Example Output 1\n",
    "Leap year\n",
    "### Example Input 2\n",
    "1989\n",
    "### Example Output 2\n",
    "Not leap year"
   ],
   "metadata": {
    "collapsed": false
   },
   "id": "12671be9f24abc68"
  },
  {
   "cell_type": "code",
   "outputs": [
    {
     "name": "stdout",
     "output_type": "stream",
     "text": [
      "Leap year\n"
     ]
    }
   ],
   "source": [
    "# Which year do you want to check?\n",
    "year = int(input())\n",
    "# 🚨 Don't change the code above 👆\n",
    "\n",
    "# Write your code below this line 👇\n",
    "is_leap = False\n",
    "\n",
    "if year % 4 == 0:\n",
    "  is_leap = True\n",
    "  if year % 100 == 0:\n",
    "    is_leap = False\n",
    "    if year % 400 == 0:\n",
    "      is_leap = True\n",
    "\n",
    "if is_leap:\n",
    "  print(\"Leap year\")\n",
    "else:\n",
    "  print(\"Not leap year\")"
   ],
   "metadata": {
    "collapsed": false,
    "ExecuteTime": {
     "end_time": "2024-02-18T15:49:07.385735500Z",
     "start_time": "2024-02-18T15:49:04.731052Z"
    }
   },
   "id": "a0e9f10378871961",
   "execution_count": 9
  },
  {
   "cell_type": "markdown",
   "source": [
    "## Pizza Order Practice\n",
    "\n",
    "### Instructions\n",
    "Congratulations, you've got a job at Python Pizza! Your first job is to build an automatic pizza order program.\n",
    "\n",
    "Based on a user's order, work out their final bill.\n",
    "\n",
    "Small pizza (S): $15\n",
    "\n",
    "Medium pizza (M): $20\n",
    "\n",
    "Large pizza (L): $25\n",
    "\n",
    "Add pepperoni for small pizza (Y or N): +$2\n",
    "\n",
    "Add pepperoni for medium or large pizza (Y or N): +$3\n",
    "\n",
    "Add extra cheese for any size pizza (Y or N): +$1\n",
    "\n",
    "### Example Input\n",
    "L\n",
    "Y\n",
    "N\n",
    "### Example Output\n",
    "Thank you for choosing Python Pizza Deliveries!\n",
    "Your final bill is: $28."
   ],
   "metadata": {
    "collapsed": false
   },
   "id": "5f6afccb32fe74d5"
  },
  {
   "cell_type": "code",
   "outputs": [
    {
     "name": "stdout",
     "output_type": "stream",
     "text": [
      "Thank you for choosing Python Pizza Deliveries!\n",
      "Your final bill is: $28.\n"
     ]
    }
   ],
   "source": [
    "print(\"Thank you for choosing Python Pizza Deliveries!\")\n",
    "size = input() # What size pizza do you want? S, M, or L\n",
    "add_pepperoni = input() # Do you want pepperoni? Y or N\n",
    "extra_cheese = input() # Do you want extra cheese? Y or N\n",
    "# 🚨 Don't change the code above 👆\n",
    "# Write your code below this line 👇\n",
    "bill = 0\n",
    "\n",
    "if size == \"S\":\n",
    "    bill += 15\n",
    "elif size == \"M\":\n",
    "    bill += 20\n",
    "else:\n",
    "    bill += 25\n",
    "    \n",
    "if add_pepperoni == \"Y\":\n",
    "    if size == \"S\":\n",
    "        bill += 2\n",
    "    else:\n",
    "        bill += 3\n",
    "        \n",
    "if extra_cheese == \"Y\":\n",
    "    bill += 1\n",
    "    \n",
    "print(f\"Your final bill is: ${bill}.\")"
   ],
   "metadata": {
    "collapsed": false,
    "ExecuteTime": {
     "end_time": "2024-02-18T15:49:28.738461700Z",
     "start_time": "2024-02-18T15:49:23.912114100Z"
    }
   },
   "id": "3944605f85fcb1b3",
   "execution_count": 11
  },
  {
   "cell_type": "markdown",
   "source": [
    "## Love Calculator\n",
    "\n",
    "### Instructions\n",
    "\n",
    "You are going to write a program that tests the compatibility between two people.\n",
    "\n",
    "To work out the love score between two people:\n",
    "\n",
    "Take both people's names and check for the number of times the letters in the word TRUE occurs.\n",
    "\n",
    "Then check for the number of times the letters in the word LOVE occurs.\n",
    "\n",
    "Then combine these numbers to make a 2 digit number.\n",
    "\n",
    "For Love Scores less than 10 or greater than 90, the message should be:\n",
    "\"Your score is *x*, you go together like coke and mentos.\"\n",
    "\n",
    "For Love Scores between 40 and 50, the message should be:\n",
    "\"Your score is *y*, you are alright together.\"\n",
    "\n",
    "Otherwise, the message will just be their score. e.g.:\n",
    "\"Your score is *z*.\"\n",
    "\n",
    "These functions will help you:\n",
    "lower() count()\n",
    "\n",
    "### Example Input 1\n",
    "Kanye West\n",
    "Kim Kardashian\n",
    "### Example Output 1\n",
    "The Love Calculator is calculating your score...\n",
    "Your score is 42, you are alright together.\n",
    "### Example Input 2\n",
    "Brad Pitt\n",
    "Jennifer Aniston\n",
    "### Example Output 2\n",
    "The Love Calculator is calculating your score...\n",
    "Your score is 73."
   ],
   "metadata": {
    "collapsed": false
   },
   "id": "235c619065e6094"
  },
  {
   "cell_type": "code",
   "outputs": [
    {
     "name": "stdout",
     "output_type": "stream",
     "text": [
      "The Love Calculator is calculating your score...\n",
      "Your score is 125, you go together like coke and mentos.\n"
     ]
    }
   ],
   "source": [
    "print(\"The Love Calculator is calculating your score...\")\n",
    "name1 = input() # What is your name?\n",
    "name2 = input() # What is their name?\n",
    "# 🚨 Don't change the code above 👆\n",
    "# Write your code below this line 👇\n",
    "combined_name = name1 + name2\n",
    "combined_name = combined_name.lower()\n",
    "\n",
    "first_digit = 0\n",
    "second_digit = 0\n",
    "\n",
    "first_digit += combined_name.count(\"t\")\n",
    "first_digit += combined_name.count(\"r\")\n",
    "first_digit += combined_name.count(\"u\")\n",
    "first_digit += combined_name.count(\"e\")\n",
    "\n",
    "second_digit += combined_name.count(\"l\")\n",
    "second_digit += combined_name.count(\"o\")\n",
    "second_digit += combined_name.count(\"v\")\n",
    "second_digit += combined_name.count(\"e\")\n",
    "\n",
    "score = first_digit * 10 + second_digit\n",
    "\n",
    "if 10 > score or 90 < score:\n",
    "    print(f\"Your score is {score}, you go together like coke and mentos.\")\n",
    "elif 40 <= score <= 50:\n",
    "    print(f\"Your score is {score}, you are alright together.\")\n",
    "else:\n",
    "    print(f\"Your score is {first_digit}{second_digit}.\")"
   ],
   "metadata": {
    "collapsed": false,
    "ExecuteTime": {
     "end_time": "2024-02-18T14:48:12.443647200Z",
     "start_time": "2024-02-18T14:48:07.836295600Z"
    }
   },
   "id": "78a00f1858fa724d",
   "execution_count": 8
  }
 ],
 "metadata": {
  "kernelspec": {
   "display_name": "Python 3",
   "language": "python",
   "name": "python3"
  },
  "language_info": {
   "codemirror_mode": {
    "name": "ipython",
    "version": 2
   },
   "file_extension": ".py",
   "mimetype": "text/x-python",
   "name": "python",
   "nbconvert_exporter": "python",
   "pygments_lexer": "ipython2",
   "version": "2.7.6"
  }
 },
 "nbformat": 4,
 "nbformat_minor": 5
}
