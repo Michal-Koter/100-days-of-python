{
 "cells": [
  {
   "cell_type": "markdown",
   "source": [
    "# Exercises Day 9"
   ],
   "metadata": {
    "collapsed": false
   },
   "id": "69073c4e9df2eeec"
  },
  {
   "cell_type": "markdown",
   "source": [
    "## Grading Program\n",
    "\n",
    "### Instructions\n",
    "You have access to a database of student_scores in the format of a dictionary. The keys in student_scores are the names of the students and the values are their exam scores.\n",
    "\n",
    "Write a program that converts their scores to grades. By the end of your program, you should have a new dictionary called student_grades that should contain student names for keys and their grades for values.\n",
    "\n",
    "This is the scoring criteria:\n",
    "\n",
    "* Scores 91 - 100: Grade = \"Outstanding\"\n",
    "* Scores 81 - 90: Grade = \"Exceeds Expectations\"\n",
    "* Scores 71 - 80: Grade = \"Acceptable\"\n",
    "* Scores 70 or lower: Grade = \"Fail\"\n",
    "\n",
    "### Expected Output\n",
    "`{'Harry': 'Exceeds Expectations', 'Ron': 'Acceptable', 'Hermione': 'Outstanding', 'Draco': 'Acceptable', 'Neville': 'Fail'}`\n"
   ],
   "metadata": {
    "collapsed": false
   },
   "id": "1eb86025f5f38bc9"
  },
  {
   "cell_type": "code",
   "execution_count": 4,
   "id": "initial_id",
   "metadata": {
    "collapsed": true,
    "ExecuteTime": {
     "end_time": "2024-02-21T12:40:20.181018700Z",
     "start_time": "2024-02-21T12:40:20.175726200Z"
    }
   },
   "outputs": [
    {
     "name": "stdout",
     "output_type": "stream",
     "text": [
      "{'Harry': 'Exceeds Expectations', 'Ron': 'Acceptable', 'Hermione': 'Outstanding', 'Draco': 'Acceptable', 'Neville': 'Fail'}\n"
     ]
    }
   ],
   "source": [
    "student_scores = {\n",
    "  \"Harry\": 81,\n",
    "  \"Ron\": 78,\n",
    "  \"Hermione\": 99, \n",
    "  \"Draco\": 74,\n",
    "  \"Neville\": 62,\n",
    "}\n",
    "# 🚨 Don't change the code above 👆\n",
    "# TODO-1: Create an empty dictionary called student_grades.\n",
    "student_grades = dict()\n",
    "\n",
    "# TODO-2: Write your code below to add the grades to student_grades.👇\n",
    "for student, score in student_scores.items():\n",
    "    if score > 90:\n",
    "        student_grades[student] = \"Outstanding\"\n",
    "    elif score > 80:\n",
    "        student_grades[student] = \"Exceeds Expectations\"\n",
    "    elif score > 70:\n",
    "        student_grades[student] = \"Acceptable\"\n",
    "    else:\n",
    "        student_grades[student] = \"Fail\"\n",
    "\n",
    "# 🚨 Don't change the code below 👇\n",
    "print(student_grades)"
   ]
  },
  {
   "cell_type": "markdown",
   "source": [
    "## Dictionary in List\n",
    "\n",
    "### Instructions\n",
    "You are going to write a program that adds to a travel_log. You can see a travel_log which is a List that contains 2 Dictionaries. Your job is to create a function that can add new countries to this list.\n",
    "\n",
    "Write a function that will work with the following line of code on line 21 to add the entry for Brazil to the travel_log.\n",
    "\n",
    "### Example Input\n",
    "```\n",
    "Brazil\n",
    "5\n",
    "[\"Sao Paulo\", \"Rio de Janeiro\"]\n",
    "```\n",
    "### Example Output\n",
    "```\n",
    "I've been to Brazil 5 times.\n",
    "My favourite city was Sao Paulo.\n",
    "```"
   ],
   "metadata": {
    "collapsed": false
   },
   "id": "c65100c228448c7c"
  },
  {
   "cell_type": "code",
   "outputs": [
    {
     "name": "stdout",
     "output_type": "stream",
     "text": [
      "I've been to Brazil 5 times.\n",
      "My favourite city was Sao Paulo.\n"
     ]
    }
   ],
   "source": [
    "country = input() # Add country name\n",
    "visits = int(input()) # Number of visits\n",
    "list_of_cities = eval(input()) # create list from formatted string\n",
    "\n",
    "travel_log = [\n",
    "  {\n",
    "    \"country\": \"France\",\n",
    "    \"visits\": 12,\n",
    "    \"cities\": [\"Paris\", \"Lille\", \"Dijon\"]\n",
    "  },\n",
    "  {\n",
    "    \"country\": \"Germany\",\n",
    "    \"visits\": 5,\n",
    "    \"cities\": [\"Berlin\", \"Hamburg\", \"Stuttgart\"]\n",
    "  },\n",
    "]\n",
    "# Do NOT change the code above 👆\n",
    "\n",
    "# TODO: Write the function that will allow new countries\n",
    "# to be added to the travel_log. \n",
    "def add_new_country(country, visits, cities):\n",
    "    travel_log.append(\n",
    "        {\n",
    "            \"country\": country,\n",
    "            \"visits\": visits,\n",
    "            \"cities\": cities\n",
    "        }\n",
    "    )\n",
    "\n",
    "# Do not change the code below 👇\n",
    "add_new_country(country, visits, list_of_cities)\n",
    "print(f\"I've been to {travel_log[2]['country']} {travel_log[2]['visits']} times.\")\n",
    "print(f\"My favourite city was {travel_log[2]['cities'][0]}.\")"
   ],
   "metadata": {
    "collapsed": false,
    "ExecuteTime": {
     "end_time": "2024-02-21T13:02:07.515831300Z",
     "start_time": "2024-02-21T13:02:01.136597500Z"
    }
   },
   "id": "58a45c707eb3f40b",
   "execution_count": 13
  }
 ],
 "metadata": {
  "kernelspec": {
   "display_name": "Python 3",
   "language": "python",
   "name": "python3"
  },
  "language_info": {
   "codemirror_mode": {
    "name": "ipython",
    "version": 2
   },
   "file_extension": ".py",
   "mimetype": "text/x-python",
   "name": "python",
   "nbconvert_exporter": "python",
   "pygments_lexer": "ipython2",
   "version": "2.7.6"
  }
 },
 "nbformat": 4,
 "nbformat_minor": 5
}
