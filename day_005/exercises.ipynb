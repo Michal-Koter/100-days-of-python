{
 "cells": [
  {
   "cell_type": "markdown",
   "source": [
    "# Exercises Day 5"
   ],
   "metadata": {
    "collapsed": false
   },
   "id": "4ca0e70acc21439d"
  },
  {
   "cell_type": "markdown",
   "source": [
    "## Average Height\n",
    "\n",
    "### Instructions\n",
    "You are going to write a program that calculates the average student height from a List of heights.\n",
    "\n",
    "The average height can be calculated by adding all the heights together and dividing by the total number of heights.\n",
    "\n",
    "### Example Input 1\n",
    "`156 178 165 171 187`\n",
    "\n",
    "### Example Output 1\n",
    "```\n",
    "total height = 857\n",
    "number of students = 5\n",
    "average height = 171\n",
    "```"
   ],
   "metadata": {
    "collapsed": false
   },
   "id": "c649dd793b69cc36"
  },
  {
   "cell_type": "code",
   "execution_count": 3,
   "id": "initial_id",
   "metadata": {
    "collapsed": true,
    "ExecuteTime": {
     "end_time": "2024-02-19T12:02:32.180892200Z",
     "start_time": "2024-02-19T12:02:30.190337300Z"
    }
   },
   "outputs": [
    {
     "name": "stdout",
     "output_type": "stream",
     "text": [
      "total height = 857\n",
      "number of students = 5\n",
      "average height = 171\n"
     ]
    }
   ],
   "source": [
    "# Input a Python list of student heights\n",
    "student_heights = input().split()\n",
    "for n in range(0, len(student_heights)):\n",
    "  student_heights[n] = int(student_heights[n])\n",
    "# 🚨 Don't change the code above 👆\n",
    "  \n",
    "# Write your code below this row 👇\n",
    "\n",
    "heights_sum = 0\n",
    "count = 0\n",
    "\n",
    "for height in student_heights:\n",
    "    heights_sum += height\n",
    "    count += 1\n",
    "    \n",
    "height_avg = round(heights_sum / count)\n",
    "\n",
    "print(f\"total height = {heights_sum}\")\n",
    "print(f\"number of students = {count}\")\n",
    "print(f\"average height = {height_avg}\")"
   ]
  },
  {
   "cell_type": "markdown",
   "source": [
    "## High Score\n",
    "\n",
    "### Instructions\n",
    "You are going to write a program that calculates the highest score from a List of scores.\n",
    "\n",
    "Important you are not allowed to use the max or min functions. The output words must match the example.\n",
    "\n",
    "### Example Input\n",
    "`78 65 89 86 55 91 64 89`\n",
    "\n",
    "### Example Output\n",
    "`The highest score in the class is: 91`"
   ],
   "metadata": {
    "collapsed": false
   },
   "id": "b7357656ea366736"
  },
  {
   "cell_type": "code",
   "outputs": [
    {
     "name": "stdout",
     "output_type": "stream",
     "text": [
      "The highest score in the class is: 91\n"
     ]
    }
   ],
   "source": [
    "# Input a list of student scores\n",
    "student_scores = input().split()\n",
    "for n in range(0, len(student_scores)):\n",
    "  student_scores[n] = int(student_scores[n])\n",
    "\n",
    "# Write your code below this row 👇\n",
    "max_score = 0\n",
    "\n",
    "for score in student_scores:\n",
    "    if score > max_score:\n",
    "        max_score = score\n",
    "        \n",
    "print(f\"The highest score in the class is: {max_score}\")"
   ],
   "metadata": {
    "collapsed": false,
    "ExecuteTime": {
     "end_time": "2024-02-19T12:07:34.725226200Z",
     "start_time": "2024-02-19T12:07:33.621497800Z"
    }
   },
   "id": "173321c060c343a0",
   "execution_count": 4
  },
  {
   "cell_type": "markdown",
   "source": [
    "## Adding Even Numbers\n",
    "\n",
    "### Instructions\n",
    "You are going to write a program that calculates the sum of all the even numbers from 1 to X. If X is 100 then the first even number would be 2 and the last one is 100:\n",
    "\n",
    "i.e. 2 + 4 + 6 + 8 +10 ... + 98 + 100\n",
    "\n",
    "Important, there should only be 1 print statement in your console output. It should just print the final total and not every step of the calculation.\n",
    "\n",
    "### Example Input 1\n",
    "`10`\n",
    "### Example Output 1\n",
    "`30`"
   ],
   "metadata": {
    "collapsed": false
   },
   "id": "97dd16f383b9fc29"
  },
  {
   "cell_type": "code",
   "outputs": [
    {
     "name": "stdout",
     "output_type": "stream",
     "text": [
      "30\n"
     ]
    }
   ],
   "source": [
    "target = int(input()) # Enter a number between 0 and 1000\n",
    "# 🚨 Do not change the code above ☝️\n",
    "\n",
    "# Write your code here 👇\n",
    "sum = 0\n",
    "\n",
    "for i in range(2, target+1, 2):\n",
    "    sum += i\n",
    "\n",
    "print(sum)"
   ],
   "metadata": {
    "collapsed": false,
    "ExecuteTime": {
     "end_time": "2024-02-19T12:12:12.347809Z",
     "start_time": "2024-02-19T12:12:10.944125400Z"
    }
   },
   "id": "fda9ec8bb25df6d2",
   "execution_count": 5
  },
  {
   "cell_type": "markdown",
   "source": [
    "## FizzBuzz\n",
    "\n",
    "### Instructions\n",
    "You are going to write a program that automatically prints the solution to the FizzBuzz game. These are the rules of the FizzBuzz game:\n",
    "\n",
    "* Your program should print each number from 1 to 100 in turn and include number 100.\n",
    "* When the number is divisible by 3 then instead of printing the number it should print \"Fizz\".\n",
    "* When the number is divisible by 5, then instead of printing the number it should print \"Buzz\".`\n",
    "* And if the number is divisible by both 3 and 5 e.g. 15 then instead of the number it should print \"FizzBuzz\""
   ],
   "metadata": {
    "collapsed": false
   },
   "id": "dd50a7f004a9fc3d"
  },
  {
   "cell_type": "code",
   "outputs": [
    {
     "name": "stdout",
     "output_type": "stream",
     "text": [
      "1\n",
      "2\n",
      "Fizz\n",
      "4\n",
      "Buzz\n",
      "Fizz\n",
      "7\n",
      "8\n",
      "Fizz\n",
      "Buzz\n",
      "11\n",
      "Fizz\n",
      "13\n",
      "14\n",
      "FizzBuzz\n",
      "16\n",
      "17\n",
      "Fizz\n",
      "19\n",
      "Buzz\n",
      "Fizz\n",
      "22\n",
      "23\n",
      "Fizz\n",
      "Buzz\n",
      "26\n",
      "Fizz\n",
      "28\n",
      "29\n",
      "FizzBuzz\n",
      "31\n",
      "32\n",
      "Fizz\n",
      "34\n",
      "Buzz\n",
      "Fizz\n",
      "37\n",
      "38\n",
      "Fizz\n",
      "Buzz\n",
      "41\n",
      "Fizz\n",
      "43\n",
      "44\n",
      "FizzBuzz\n",
      "46\n",
      "47\n",
      "Fizz\n",
      "49\n",
      "Buzz\n",
      "Fizz\n",
      "52\n",
      "53\n",
      "Fizz\n",
      "Buzz\n",
      "56\n",
      "Fizz\n",
      "58\n",
      "59\n",
      "FizzBuzz\n",
      "61\n",
      "62\n",
      "Fizz\n",
      "64\n",
      "Buzz\n",
      "Fizz\n",
      "67\n",
      "68\n",
      "Fizz\n",
      "Buzz\n",
      "71\n",
      "Fizz\n",
      "73\n",
      "74\n",
      "FizzBuzz\n",
      "76\n",
      "77\n",
      "Fizz\n",
      "79\n",
      "Buzz\n",
      "Fizz\n",
      "82\n",
      "83\n",
      "Fizz\n",
      "Buzz\n",
      "86\n",
      "Fizz\n",
      "88\n",
      "89\n",
      "FizzBuzz\n",
      "91\n",
      "92\n",
      "Fizz\n",
      "94\n",
      "Buzz\n",
      "Fizz\n",
      "97\n",
      "98\n",
      "Fizz\n",
      "Buzz\n"
     ]
    }
   ],
   "source": [
    "for i in range(1, 101):\n",
    "    if i % 3 == 0 and i % 5 == 0:\n",
    "        print(\"FizzBuzz\")\n",
    "    elif i % 3 == 0:\n",
    "        print(\"Fizz\")\n",
    "    elif i % 5 == 0:\n",
    "        print(\"Buzz\")\n",
    "    else:\n",
    "        print(i)"
   ],
   "metadata": {
    "collapsed": false,
    "ExecuteTime": {
     "end_time": "2024-02-19T12:15:36.361081900Z",
     "start_time": "2024-02-19T12:15:36.351287300Z"
    }
   },
   "id": "2613e0812261d7d9",
   "execution_count": 6
  }
 ],
 "metadata": {
  "kernelspec": {
   "display_name": "Python 3",
   "language": "python",
   "name": "python3"
  },
  "language_info": {
   "codemirror_mode": {
    "name": "ipython",
    "version": 2
   },
   "file_extension": ".py",
   "mimetype": "text/x-python",
   "name": "python",
   "nbconvert_exporter": "python",
   "pygments_lexer": "ipython2",
   "version": "2.7.6"
  }
 },
 "nbformat": 4,
 "nbformat_minor": 5
}
