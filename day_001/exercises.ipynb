{
 "cells": [
  {
   "cell_type": "markdown",
   "source": [
    "# Exercises Day 1"
   ],
   "metadata": {
    "collapsed": false
   },
   "id": "73cdc10d39402322"
  },
  {
   "cell_type": "markdown",
   "source": [
    "## Printing\n",
    "### Instructions\n",
    "Write a program that uses print statements to print the following recipe into the Output console. The text to print is already there, you just need to make it into code. Your code should print all five lines exactly the same as the example output below.\n",
    "\n",
    "### Example Output\n",
    "1. Mix 500g of Flour, 10g Yeast and 300ml Water in a bowl.\n",
    "\n",
    "2. Knead the dough for 10 minutes.\n",
    "\n",
    "3. Add 3g of Salt.\n",
    "\n",
    "4. Leave to rise for 2 hours.\n",
    "\n",
    "5. Bake at 200 degrees C for 30 minutes."
   ],
   "metadata": {
    "collapsed": false
   },
   "id": "cf90b17e368ccd0"
  },
  {
   "cell_type": "code",
   "outputs": [
    {
     "name": "stdout",
     "output_type": "stream",
     "text": [
      "1. Mix 500g of Flour, 10g Yeast and 300ml Water in a bowl.\n",
      "2. Knead the dough for 10 minutes.\n",
      "3. Add 3g of Salt.\n",
      "4. Leave to rise for 2 hours.\n",
      "5. Bake at 200 degrees C for 30 minutes.\n"
     ]
    }
   ],
   "source": [
    "print(\"\"\"1. Mix 500g of Flour, 10g Yeast and 300ml Water in a bowl.\n",
    "2. Knead the dough for 10 minutes.\n",
    "3. Add 3g of Salt.\n",
    "4. Leave to rise for 2 hours.\n",
    "5. Bake at 200 degrees C for 30 minutes.\"\"\")"
   ],
   "metadata": {
    "collapsed": true,
    "ExecuteTime": {
     "end_time": "2024-02-16T19:35:19.534450800Z",
     "start_time": "2024-02-16T19:35:19.514684300Z"
    }
   },
   "id": "initial_id",
   "execution_count": 2
  },
  {
   "cell_type": "markdown",
   "source": [
    "## Debugging Practice\n",
    "\n",
    "### Instructions\n",
    "Look at the code in the code editor on the left. There are errors on all 4 lines of code. Fix the code so that it runs without errors.\n",
    "\n",
    "### Example Output\n",
    "![Example output](fig/4d5565ba-7835-4ba7-a4d2-1e0af02c6ca6.jfif)"
   ],
   "metadata": {
    "collapsed": false
   },
   "id": "e0a4f4e174e10eab"
  },
  {
   "cell_type": "code",
   "outputs": [
    {
     "ename": "SyntaxError",
     "evalue": "unterminated string literal (detected at line 3) (3232730066.py, line 3)",
     "output_type": "error",
     "traceback": [
      "\u001B[1;36m  Cell \u001B[1;32mIn[3], line 3\u001B[1;36m\u001B[0m\n\u001B[1;33m    print(Day 1 - String Manipulation\")\u001B[0m\n\u001B[1;37m                                     ^\u001B[0m\n\u001B[1;31mSyntaxError\u001B[0m\u001B[1;31m:\u001B[0m unterminated string literal (detected at line 3)\n"
     ]
    }
   ],
   "source": [
    "# Fix the code below 👇\n",
    "\n",
    "print(Day 1 - String Manipulation\")\n",
    "print(\"String Concatenation is done with the \"+\" sign.\")\n",
    "  print('e.g. print(\"Hello \" + \"world\")')\n",
    "print((\"New lines can be created with a backslash and n.\")"
   ],
   "metadata": {
    "collapsed": false,
    "ExecuteTime": {
     "end_time": "2024-02-16T19:35:24.818251400Z",
     "start_time": "2024-02-16T19:35:24.806554100Z"
    }
   },
   "id": "ba038e27b8c51654",
   "execution_count": 3
  },
  {
   "cell_type": "code",
   "outputs": [
    {
     "name": "stdout",
     "output_type": "stream",
     "text": [
      "Day 1 - String Manipulation\n",
      "String Concatenation is done with the \"+\" sign.\n",
      "e.g. print(\"Hello \" + \"world\")\n",
      "New lines can be created with a backslash and n.\n"
     ]
    }
   ],
   "source": [
    "# Fixed code\n",
    "\n",
    "print(\"Day 1 - String Manipulation\")\n",
    "print(\"String Concatenation is done with the \\\"+\\\" sign.\")\n",
    "print('e.g. print(\"Hello \" + \"world\")')\n",
    "print(\"New lines can be created with a backslash and n.\")"
   ],
   "metadata": {
    "collapsed": false,
    "ExecuteTime": {
     "end_time": "2024-02-16T19:35:26.144759900Z",
     "start_time": "2024-02-16T19:35:26.134586200Z"
    }
   },
   "id": "7a50a59df96d9766",
   "execution_count": 4
  },
  {
   "cell_type": "markdown",
   "source": [
    "## Input Function\n",
    "\n",
    "### Instructions\n",
    "Try this exercise to understand how tests work with inputs in Auditorium.\n",
    "\n",
    "Write some code that multiples together the two numbers in the input area. When you run the tests, different hidden inputs will replace the ones in the input area and replace the input() in your code."
   ],
   "metadata": {
    "collapsed": false
   },
   "id": "e07a547197f26a25"
  },
  {
   "cell_type": "code",
   "outputs": [
    {
     "name": "stdout",
     "output_type": "stream",
     "text": [
      "12\n"
     ]
    }
   ],
   "source": [
    "num1 = int(input(\"Enter first number: \"))\n",
    "num2 = int(input(\"Enter second number: \"))\n",
    "\n",
    "print(num1 * num2)"
   ],
   "metadata": {
    "collapsed": false,
    "ExecuteTime": {
     "end_time": "2024-02-16T19:35:54.846658300Z",
     "start_time": "2024-02-16T19:35:51.082200700Z"
    }
   },
   "id": "774be9571b111770",
   "execution_count": 7
  },
  {
   "cell_type": "markdown",
   "source": [
    "### Instructions\n",
    "Write a program that calculates and outputs the number of characters in any name. The automated tests will try out lots of different names as the input. Your code should work for any name.\n",
    "\n",
    "Important\n",
    "Don't add a prompt to the input() function. e.g. use name = input() rather than: name = input(\"What's your name?\")\n",
    "\n",
    "input() will give you access to anything that's typed in the input pane."
   ],
   "metadata": {
    "collapsed": false
   },
   "id": "c3a0c00849777385"
  },
  {
   "cell_type": "code",
   "outputs": [
    {
     "name": "stdout",
     "output_type": "stream",
     "text": [
      "5\n"
     ]
    }
   ],
   "source": [
    "# Provide any name in the input pane below.\n",
    "# That value can be accessed using the input() function.\n",
    "# Don't put anything inside the input() function!\n",
    "\n",
    "print(len(input()))"
   ],
   "metadata": {
    "collapsed": false,
    "ExecuteTime": {
     "end_time": "2024-02-16T19:36:10.258753200Z",
     "start_time": "2024-02-16T19:36:00.207633100Z"
    }
   },
   "id": "f223280662d75541",
   "execution_count": 8
  },
  {
   "cell_type": "markdown",
   "source": [
    "## Veribles\n",
    "\n",
    "### Instructions\n",
    "This program takes two inputs. The first input is stored in a variable called a. The second input is stored in a variable called b.\n",
    "\n",
    "Write a program that switches the values stored in the variables a and b.\n",
    "\n",
    "Warning . You don't need to print anything. The print statement is already in the template code. However, your program should work for different inputs. e.g. any value of a and b.\n",
    "\n",
    "### Example Input 1\n",
    "29\n",
    "41\n",
    "### Example Output 1\n",
    "a: 41\n",
    "b: 29\n",
    "### Example Input 2\n",
    "Hello\n",
    "World\n",
    "### Example Output 2\n",
    "a: World\n",
    "b: Hello"
   ],
   "metadata": {
    "collapsed": false
   },
   "id": "a187e678a02156c1"
  },
  {
   "cell_type": "code",
   "outputs": [
    {
     "name": "stdout",
     "output_type": "stream",
     "text": [
      "a: 41\n",
      "b: 29\n"
     ]
    }
   ],
   "source": [
    "# There are two variables, a and b from input\n",
    "a = input()\n",
    "b = input()\n",
    "# 🚨 Don't change the code above ☝️\n",
    "####################################\n",
    "# Write your code below this line 👇\n",
    "\n",
    "a, b = b, a\n",
    "\n",
    "# 🚨 Don't change the code below 👇\n",
    "print(\"a: \" + a)\n",
    "print(\"b: \" + b)"
   ],
   "metadata": {
    "collapsed": false,
    "ExecuteTime": {
     "end_time": "2024-02-16T19:36:20.500674800Z",
     "start_time": "2024-02-16T19:36:16.590680900Z"
    }
   },
   "id": "d0f244be54c4dae",
   "execution_count": 9
  }
 ],
 "metadata": {
  "kernelspec": {
   "display_name": "Python 3",
   "language": "python",
   "name": "python3"
  },
  "language_info": {
   "codemirror_mode": {
    "name": "ipython",
    "version": 2
   },
   "file_extension": ".py",
   "mimetype": "text/x-python",
   "name": "python",
   "nbconvert_exporter": "python",
   "pygments_lexer": "ipython2",
   "version": "2.7.6"
  }
 },
 "nbformat": 4,
 "nbformat_minor": 5
}
