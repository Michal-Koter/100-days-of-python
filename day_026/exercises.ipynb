{
 "cells": [
  {
   "cell_type": "markdown",
   "source": [
    "# Exercises Day 26 "
   ],
   "metadata": {
    "collapsed": false
   },
   "id": "85bd2f24c678a64c"
  },
  {
   "cell_type": "markdown",
   "source": [
    "## Squaring Numbers\n",
    "\n",
    "### Instructions\n",
    "You are going to write a List Comprehension to create a new list called squared_numbers. This new list should contain every number in the list numbers but each number should be squared.\n",
    "\n",
    "DO NOT modify the List numbers directly. Try to use List Comprehension instead of a Loop.\n",
    "\n",
    "### Target Output\n",
    "`[1, 1, 4, 9, 25, 64, 169, 441, 1156, 3025]`"
   ],
   "metadata": {
    "collapsed": false
   },
   "id": "893215f452fc42ab"
  },
  {
   "cell_type": "code",
   "execution_count": 1,
   "id": "initial_id",
   "metadata": {
    "collapsed": true,
    "ExecuteTime": {
     "end_time": "2024-03-05T19:55:39.069874Z",
     "start_time": "2024-03-05T19:55:39.059488Z"
    }
   },
   "outputs": [
    {
     "name": "stdout",
     "output_type": "stream",
     "text": [
      "[1, 1, 4, 9, 25, 64, 169, 441, 1156, 3025]\n"
     ]
    }
   ],
   "source": [
    "numbers = [1, 1, 2, 3, 5, 8, 13, 21, 34, 55]\n",
    "# 🚨 Do Not Change the code above 👆\n",
    "\n",
    "# Write your 1 line code 👇 below:\n",
    "squared_numbers = [n**2 for n in numbers]\n",
    "# Write your code 👆 above:\n",
    "\n",
    "\n",
    "print(squared_numbers)\n"
   ]
  },
  {
   "cell_type": "markdown",
   "source": [
    "## Filtering Even Numbers\n",
    "\n",
    "### Instructions\n",
    "In this list comprehension exercise you will practice using list comprehension to filter out the even numbers from a series of numbers.\n",
    "\n",
    "First, use list comprehension to convert the list_of_strings to a list of integers.\n",
    "\n",
    "Then use list comprehension again to create a new list called result. This new list should only contain the even numbers from the list numbers.\n",
    "\n",
    "Again, try to use Python's List Comprehension instead of a Loop.\n",
    "\n",
    "### Example Input\n",
    "`9, 0, 32, 8, 2, 8, 64, 29, 42, 99`\n",
    "### Example Output\n",
    "`[0, 32, 8, 2, 8, 64, 42]`"
   ],
   "metadata": {
    "collapsed": false
   },
   "id": "43afb18f4ef21a5e"
  },
  {
   "cell_type": "code",
   "outputs": [
    {
     "name": "stdout",
     "output_type": "stream",
     "text": [
      "[0, 32, 8, 2, 8, 64, 42]\n"
     ]
    }
   ],
   "source": [
    "list_of_strings = input().split(',')\n",
    "# 🚨 Do  not change the code above\n",
    "\n",
    "# TODO: Use list comprehension to convert the strings to integers 👇:\n",
    "list_of_numbers = [int(item) for item in list_of_strings]\n",
    "\n",
    "# TODO: Use list comprehension to filter out the odd numbers\n",
    "#  and store the even numbers in a list called \"result\"\n",
    "result = [num for num in list_of_numbers if num%2==0]\n",
    "\n",
    "# Write your code 👆 above:\n",
    "print(result)"
   ],
   "metadata": {
    "collapsed": false,
    "ExecuteTime": {
     "end_time": "2024-03-05T20:01:09.972726Z",
     "start_time": "2024-03-05T20:01:08.964180Z"
    }
   },
   "id": "45b038655c661d8b",
   "execution_count": 4
  },
  {
   "cell_type": "markdown",
   "source": [
    "## Data Overlap\n",
    "\n",
    "### Instructions\n",
    "Take a look inside file1.txt and file2.txt. They each contain a bunch of numbers, each number on a new line.\n",
    "\n",
    "You are going to create a list called result which contains the numbers that are common in both files.\n",
    "\n",
    "e.g. if file1.txt contained:\n",
    "```\n",
    "1\n",
    "2\n",
    "3\n",
    "```\n",
    "and file2.txt contained:\n",
    "```\n",
    "2\n",
    "3\n",
    "4\n",
    "```\n",
    "`result = [2, 3]`\n",
    "\n",
    "### Example Output\n",
    "`[3, 6, 5, 33, 12, 7, 42, 13]`"
   ],
   "metadata": {
    "collapsed": false
   },
   "id": "874f60c224c99842"
  },
  {
   "cell_type": "code",
   "outputs": [
    {
     "name": "stdout",
     "output_type": "stream",
     "text": [
      "[3, 6, 5, 33, 12, 7, 13]\n"
     ]
    }
   ],
   "source": [
    "with open(\"file1.txt\", \"r\") as file:\n",
    "    list_1 = file.readlines()\n",
    "    \n",
    "with open(\"file2.txt\", \"r\") as file:\n",
    "    list_2 = file.readlines()\n",
    "\n",
    "result = [int(item) for item in list_1 if item in list_2]\n",
    "\n",
    "print(result)"
   ],
   "metadata": {
    "collapsed": false,
    "ExecuteTime": {
     "end_time": "2024-03-05T20:11:34.563270Z",
     "start_time": "2024-03-05T20:11:34.558757Z"
    }
   },
   "id": "75c65c796ad5ec1",
   "execution_count": 10
  },
  {
   "cell_type": "markdown",
   "source": [
    "## Dictionary Comprehension Part 1\n",
    "\n",
    "### Instructions\n",
    "You are going to use Dictionary Comprehension to create a dictionary called result that takes each word in the given sentence and calculates the number of letters in each word.\n",
    "\n",
    "Do NOT Create a dictionary directly. Try to use Dictionary Comprehension instead of a Loop.\n",
    "\n",
    "### Example Input\n",
    "`What is the Airspeed Velocity of an Unladen Swallow?`\n",
    "### Example Output\n",
    "```\n",
    "{\n",
    "'What': 4, \n",
    "'is': 2, \n",
    "'the': 3, \n",
    "'Airspeed': 8, \n",
    "'Velocity': 8, \n",
    "'of': 2, \n",
    "'an': 2, \n",
    "'Unladen': 7, \n",
    "'Swallow?': 8\n",
    "} \n",
    "```"
   ],
   "metadata": {
    "collapsed": false
   },
   "id": "3eba924a12e3694a"
  },
  {
   "cell_type": "code",
   "outputs": [
    {
     "name": "stdout",
     "output_type": "stream",
     "text": [
      "{'What': 4, 'is': 2, 'the': 3, 'Airspeed': 8, 'Velocity': 8, 'of': 2, 'an': 2, 'Unladen': 7, 'Swallow?': 8}\n"
     ]
    }
   ],
   "source": [
    "sentence = input()\n",
    "# 🚨 Don't change code above 👆\n",
    "# Write your code below 👇\n",
    "\n",
    "words = sentence.split()\n",
    "\n",
    "result = {word: len(word) for word in words}\n",
    "\n",
    "print(result)"
   ],
   "metadata": {
    "collapsed": false,
    "ExecuteTime": {
     "end_time": "2024-03-05T20:58:56.259865Z",
     "start_time": "2024-03-05T20:58:54.119752Z"
    }
   },
   "id": "ab54dc5129610323",
   "execution_count": 12
  },
  {
   "cell_type": "markdown",
   "source": [
    "## Dictionary Comprehension Part 2\n",
    "\n",
    "### Instructions\n",
    "You are going to use Dictionary Comprehension to create a dictionary called weather_f that takes each temperature in degrees Celsius and converts it into degrees Fahrenheit.\n",
    "\n",
    "To convert temp_c into temp_f use this formula:\n",
    "\n",
    "(temp_c * 9/5) + 32 = temp_f\n",
    "\n",
    "The eval() function will help us convert the string input into a Python dictionary, provided that the inputs are already formatted with the correct syntax.\n",
    "\n",
    "### Example Input\n",
    "`{\"Monday\": 12, \"Tuesday\": 14, \"Wednesday\": 15, \"Thursday\": 14, \"Friday\": 21, \"Saturday\": 22, \"Sunday\": 24}`\n",
    "\n",
    "### Example Output\n",
    "`{'Monday': 53.6, 'Tuesday': 57.2, 'Wednesday': 59.0, 'Thursday': 57.2, 'Friday': 69.8, 'Saturday': 71.6, 'Sunday': 75.2}`"
   ],
   "metadata": {
    "collapsed": false
   },
   "id": "c7481f7814d34ca4"
  },
  {
   "cell_type": "code",
   "outputs": [
    {
     "name": "stdout",
     "output_type": "stream",
     "text": [
      "{'Monday': 53.6, 'Tuesday': 57.2, 'Wednesday': 59.0, 'Thursday': 57.2, 'Friday': 69.8, 'Saturday': 71.6, 'Sunday': 75.2}\n"
     ]
    }
   ],
   "source": [
    "weather_c = eval(input())\n",
    "# 🚨 Don't change code above 👆\n",
    "\n",
    "\n",
    "# Write your code 👇 below:\n",
    "weather_f = {day: (temp_c * 9/5) + 32 for day, temp_c in weather_c.items()}\n",
    "\n",
    "\n",
    "print(weather_f)"
   ],
   "metadata": {
    "collapsed": false,
    "ExecuteTime": {
     "end_time": "2024-03-05T21:03:16.860145Z",
     "start_time": "2024-03-05T21:03:15.939422Z"
    }
   },
   "id": "391521f6b9ae480d",
   "execution_count": 21
  }
 ],
 "metadata": {
  "kernelspec": {
   "display_name": "Python 3",
   "language": "python",
   "name": "python3"
  },
  "language_info": {
   "codemirror_mode": {
    "name": "ipython",
    "version": 2
   },
   "file_extension": ".py",
   "mimetype": "text/x-python",
   "name": "python",
   "nbconvert_exporter": "python",
   "pygments_lexer": "ipython2",
   "version": "2.7.6"
  }
 },
 "nbformat": 4,
 "nbformat_minor": 5
}
