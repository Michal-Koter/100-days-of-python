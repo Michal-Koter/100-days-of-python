{
 "cells": [
  {
   "cell_type": "markdown",
   "source": [
    "# Exercises Day 30"
   ],
   "metadata": {
    "collapsed": false
   },
   "id": "8e0a58dc0ec677f"
  },
  {
   "cell_type": "markdown",
   "source": [
    "## IndexError Handeling\n",
    "\n",
    "### Instructions\n",
    "Issue\n",
    "\n",
    "We've got some buggy code. Try running the code. The code will crash and give you an IndexError. This is because we're looking through the list of fruits for an index that is out of range.\n",
    "\n",
    "Objective\n",
    "\n",
    "Use what you've learnt about exception handling to prevent the program from crashing. If the user enters something that is out of range just print a default output of \"Fruit pie\".\n",
    "\n",
    "### Example Input\n",
    "`[\"Apple\", \"Pear\", \"Orange\"]`\n",
    "\n",
    "### Example Output\n",
    "`Fruit pie`\n"
   ],
   "metadata": {
    "collapsed": false
   },
   "id": "240af46e0cc568e6"
  },
  {
   "cell_type": "code",
   "execution_count": 2,
   "id": "initial_id",
   "metadata": {
    "collapsed": true,
    "ExecuteTime": {
     "end_time": "2024-03-09T21:27:41.076632Z",
     "start_time": "2024-03-09T21:27:35.912489Z"
    }
   },
   "outputs": [
    {
     "name": "stdout",
     "output_type": "stream",
     "text": [
      "Fruit pie\n"
     ]
    }
   ],
   "source": [
    "fruits = eval(input())\n",
    "# 🚨 Do not change the code above\n",
    "\n",
    "# TODO: Catch the exception and make sure the code runs without crashing.\n",
    "def make_pie(index):\n",
    "    try:\n",
    "        fruit = fruits[index]\n",
    "    except IndexError:\n",
    "        fruit = \"Fruit\"\n",
    "    finally:\n",
    "        print(fruit + \" pie\")\n",
    "\n",
    "\n",
    "# 🚨 Do not change the code below\n",
    "make_pie(4)\n"
   ]
  },
  {
   "cell_type": "markdown",
   "source": [
    "## KeyError Handling\n",
    "\n",
    "### Instructions\n",
    "We've got some buggy code, try running the code. The code will crash and give you a KeyError. This is because some of the posts in the facebook_posts don't have any \"Likes\".\n",
    "\n",
    "Objective\n",
    "\n",
    "Use what you've learnt about exception handling to prevent the program from crashing.\n",
    "\n",
    "### Example Input\n",
    "```\n",
    "[{'Likes': 21, 'Comments': 2}, {'Likes': 13, 'Comments': 2, 'Shares': 1}, {'Likes': 33, 'Comments': 8, 'Shares': 3}, {'Comments': 4, 'Shares': 2},{'Comments': 1, 'Shares': 1}, {'Likes': 19, 'Comments': 3}]\n",
    "```\n",
    "\n",
    "### Example Output\n",
    "`86`"
   ],
   "metadata": {
    "collapsed": false
   },
   "id": "fe6292f2530cedd2"
  },
  {
   "cell_type": "code",
   "outputs": [
    {
     "name": "stdout",
     "output_type": "stream",
     "text": [
      "86\n",
      "86\n"
     ]
    }
   ],
   "source": [
    "# eval() function will create a list of dictionaries using the input\n",
    "facebook_posts = eval(input())\n",
    "\n",
    "total_likes = 0\n",
    "# TODO: Catch the KeyError exception\n",
    "for post in facebook_posts:\n",
    "    try:\n",
    "        total_likes = total_likes + post['Likes']\n",
    "    except KeyError:\n",
    "        pass\n",
    "\n",
    "\n",
    "print(total_likes)"
   ],
   "metadata": {
    "collapsed": false,
    "ExecuteTime": {
     "end_time": "2024-03-09T21:33:01.755099Z",
     "start_time": "2024-03-09T21:32:59.545445Z"
    }
   },
   "id": "d8e6a70954a40a19",
   "execution_count": 4
  }
 ],
 "metadata": {
  "kernelspec": {
   "display_name": "Python 3",
   "language": "python",
   "name": "python3"
  },
  "language_info": {
   "codemirror_mode": {
    "name": "ipython",
    "version": 2
   },
   "file_extension": ".py",
   "mimetype": "text/x-python",
   "name": "python",
   "nbconvert_exporter": "python",
   "pygments_lexer": "ipython2",
   "version": "2.7.6"
  }
 },
 "nbformat": 4,
 "nbformat_minor": 5
}
