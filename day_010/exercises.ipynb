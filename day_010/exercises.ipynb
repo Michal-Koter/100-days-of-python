{
 "cells": [
  {
   "cell_type": "markdown",
   "source": [
    "# Exercises Day 10 "
   ],
   "metadata": {
    "collapsed": false
   },
   "id": "5083b82a5078782"
  },
  {
   "cell_type": "markdown",
   "source": [
    "## Day in Month\n",
    "\n",
    "### Instructions\n",
    "Convert the is_leap() function\n",
    "In the starting code, you'll find the solution from the Leap Year challenge. First, convert this function is_leap() so that instead of printing \"Leap year.\" or \"Not leap year.\" it should return True if it is a leap year and return False if it is not a leap year.\n",
    "\n",
    "Create a new function called days_in_month()\n",
    "You are then going to modify a function called days_in_month() which will take a year and a month as inputs, e.g.\n",
    "\n",
    "### Example Input\n",
    "```\n",
    "2023\n",
    "5\n",
    "```\n",
    "\n",
    "### Example Output\n",
    "`31`"
   ],
   "metadata": {
    "collapsed": false
   },
   "id": "40e4cbc46fafb36b"
  },
  {
   "cell_type": "code",
   "execution_count": 2,
   "id": "initial_id",
   "metadata": {
    "collapsed": true,
    "ExecuteTime": {
     "end_time": "2024-02-21T13:18:59.545064Z",
     "start_time": "2024-02-21T13:18:56.928008300Z"
    }
   },
   "outputs": [
    {
     "name": "stdout",
     "output_type": "stream",
     "text": [
      "31\n"
     ]
    }
   ],
   "source": [
    "def is_leap(year):\n",
    "  if year % 4 == 0:\n",
    "    if year % 100 == 0:\n",
    "      if year % 400 == 0:\n",
    "        return True\n",
    "      else:\n",
    "        return False\n",
    "    else:\n",
    "      return True\n",
    "  else:\n",
    "    return False\n",
    "  \n",
    "# TODO: Add more code here 👇\n",
    "def days_in_month(year, month):\n",
    "  month_days = [31, 28, 31, 30, 31, 30, 31, 31, 30, 31, 30, 31] \n",
    "\n",
    "  if month == 2:\n",
    "      if not is_leap(year):\n",
    "          return month_days[month - 1]\n",
    "      else:\n",
    "          return month_days[month -1] + 1\n",
    "      \n",
    "  return month_days[month-1]\n",
    "  \n",
    "#🚨 Do NOT change any of the code below \n",
    "year = int(input()) # Enter a year\n",
    "month = int(input()) # Enter a month\n",
    "days = days_in_month(year, month)\n",
    "print(days)"
   ]
  }
 ],
 "metadata": {
  "kernelspec": {
   "display_name": "Python 3",
   "language": "python",
   "name": "python3"
  },
  "language_info": {
   "codemirror_mode": {
    "name": "ipython",
    "version": 2
   },
   "file_extension": ".py",
   "mimetype": "text/x-python",
   "name": "python",
   "nbconvert_exporter": "python",
   "pygments_lexer": "ipython2",
   "version": "2.7.6"
  }
 },
 "nbformat": 4,
 "nbformat_minor": 5
}
