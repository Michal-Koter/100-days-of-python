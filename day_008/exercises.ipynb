{
 "cells": [
  {
   "cell_type": "markdown",
   "source": [
    "# Exercises Day 8"
   ],
   "metadata": {
    "collapsed": false
   },
   "id": "9d04b57aa1ac3a8a"
  },
  {
   "cell_type": "markdown",
   "source": [
    "## Paint Area Calculator\n",
    "\n",
    "### Instructions\n",
    "You are painting a wall. The instructions on the paint can says that 1 can of paint can cover 5 square meters of wall. Given a random height and width of wall, calculate how many cans of paint you'll need to buy.\n",
    "\n",
    "number of cans = (wall height x wall width) ÷ coverage per can.\n",
    "\n",
    "### Example Input\n",
    "```\n",
    "3\n",
    "9\n",
    "```\n",
    "### Example Output\n",
    "`You'll need 6 cans of paint.`"
   ],
   "metadata": {
    "collapsed": false
   },
   "id": "505e9b4884805200"
  },
  {
   "cell_type": "code",
   "outputs": [
    {
     "name": "stdout",
     "output_type": "stream",
     "text": [
      "You'll need 6 cans of paint.\n"
     ]
    }
   ],
   "source": [
    "# Write your code below this line 👇\n",
    "import math\n",
    "\n",
    "def paint_calc(height, width, cover):\n",
    "    cans = math.ceil((height * width) / cover)\n",
    "    print(f\"You'll need {cans} cans of paint.\")\n",
    "\n",
    "\n",
    "# Write your code above this line 👆\n",
    "# Define a function called paint_calc() so the code below works.   \n",
    "\n",
    "# 🚨 Don't change the code below 👇\n",
    "test_h = int(input()) # Height of wall (m)\n",
    "test_w = int(input()) # Width of wall (m)\n",
    "coverage = 5\n",
    "paint_calc(height=test_h, width=test_w, cover=coverage)"
   ],
   "metadata": {
    "collapsed": false,
    "ExecuteTime": {
     "end_time": "2024-02-20T14:34:33.263933Z",
     "start_time": "2024-02-20T14:34:30.761804200Z"
    }
   },
   "id": "6f96b40f23efe692",
   "execution_count": 6
  },
  {
   "cell_type": "markdown",
   "source": [
    "## Prime Numbers\n",
    "\n",
    "### Instructions\n",
    "Prime numbers are numbers that can only be cleanly divided by themselves and 1.\n",
    "\n",
    "You need to write a function that checks whether if the number passed into it is a prime number or not.\n",
    "\n",
    "### Example Input 1\n",
    "`73`\n",
    "### Example Output 1\n",
    "`It's a prime number.`"
   ],
   "metadata": {
    "collapsed": false
   },
   "id": "26ce443dc9872b90"
  },
  {
   "cell_type": "code",
   "execution_count": 8,
   "id": "initial_id",
   "metadata": {
    "collapsed": true,
    "ExecuteTime": {
     "end_time": "2024-02-20T14:40:39.899840400Z",
     "start_time": "2024-02-20T14:40:39.008078500Z"
    }
   },
   "outputs": [
    {
     "name": "stdout",
     "output_type": "stream",
     "text": [
      "It's not a prime number.\n"
     ]
    }
   ],
   "source": [
    "# Write your code below this line 👇\n",
    "\n",
    "def prime_checker(number):\n",
    "    is_prime = True\n",
    "    \n",
    "    for i in range(2, number):\n",
    "        if number % i == 0:\n",
    "            is_prime = False\n",
    "            break\n",
    "    \n",
    "    if is_prime:\n",
    "        print(\"It's a prime number.\")\n",
    "    else:\n",
    "        print(\"It's not a prime number.\")\n",
    "        \n",
    "# Write your code above this line 👆\n",
    "    \n",
    "#Do NOT change any of the code below👇\n",
    "n = int(input()) # Check this number\n",
    "prime_checker(number=n)"
   ]
  }
 ],
 "metadata": {
  "kernelspec": {
   "display_name": "Python 3",
   "language": "python",
   "name": "python3"
  },
  "language_info": {
   "codemirror_mode": {
    "name": "ipython",
    "version": 2
   },
   "file_extension": ".py",
   "mimetype": "text/x-python",
   "name": "python",
   "nbconvert_exporter": "python",
   "pygments_lexer": "ipython2",
   "version": "2.7.6"
  }
 },
 "nbformat": 4,
 "nbformat_minor": 5
}
