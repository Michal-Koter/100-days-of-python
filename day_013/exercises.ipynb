{
 "cells": [
  {
   "cell_type": "markdown",
   "source": [
    "# Exercises Day 13"
   ],
   "metadata": {
    "collapsed": false
   },
   "id": "80afdf6317e2aec0"
  },
  {
   "cell_type": "markdown",
   "source": [
    "## Debugging Odd or Even\n",
    "\n",
    "### Instructions\n",
    "\n",
    "* Read this the code in main.py\n",
    "* Spot the problems 🐞.\n",
    "* Modify the code to fix the program.\n",
    "\n",
    "Fix the code so that it works:\n",
    "```\n",
    "number = int(input()) # Which number do you want to check?\n",
    "\n",
    "if number % 2 = 0:\n",
    "  print(\"This is an even number.\")\n",
    "else:\n",
    "  print(\"This is an odd number.\")\n",
    "```"
   ],
   "metadata": {
    "collapsed": false
   },
   "id": "2d19cd60e090f76b"
  },
  {
   "cell_type": "code",
   "execution_count": 3,
   "id": "initial_id",
   "metadata": {
    "collapsed": true,
    "ExecuteTime": {
     "end_time": "2024-02-23T14:06:36.113438Z",
     "start_time": "2024-02-23T14:06:34.929320Z"
    }
   },
   "outputs": [
    {
     "name": "stdout",
     "output_type": "stream",
     "text": [
      "This is an odd number.\n"
     ]
    }
   ],
   "source": [
    "number = int(input()) # Which number do you want to check?\n",
    "\n",
    "if number % 2 == 0:\n",
    "  print(\"This is an even number.\")\n",
    "else:\n",
    "  print(\"This is an odd number.\")\n",
    "  "
   ]
  },
  {
   "cell_type": "markdown",
   "source": [
    "## Debugging Leap Year\n",
    "\n",
    "### Instructions\n",
    "\n",
    "* Read this the code in main.py\n",
    "* Spot the problems 🐞.\n",
    "* Modify the code to fix the program.\n",
    "* No shortcuts - don't copy-paste to replace the code entirely with a working solution.\n",
    "\n",
    "Fix the code so that it works:\n",
    "```\n",
    "# Which year do you want to check?\n",
    "year = input()\n",
    "\n",
    "if year % 4 == 0:\n",
    "  if year % 100 == 0:\n",
    "    if year % 400 == 0:\n",
    "      print(\"Leap year.\")\n",
    "    else:\n",
    "      print(\"Not leap year.\")\n",
    "  else:\n",
    "    print(\"Leap year.\")\n",
    "else:\n",
    "  print(\"Not leap year.\")\n",
    "```"
   ],
   "metadata": {
    "collapsed": false
   },
   "id": "1bdb690e13abebf9"
  },
  {
   "cell_type": "code",
   "outputs": [
    {
     "name": "stdout",
     "output_type": "stream",
     "text": [
      "Leap year.\n"
     ]
    }
   ],
   "source": [
    "# Which year do you want to check?\n",
    "year = int(input())\n",
    "\n",
    "if year % 4 == 0:\n",
    "  if year % 100 == 0:\n",
    "    if year % 400 == 0:\n",
    "      print(\"Leap year.\")\n",
    "    else:\n",
    "      print(\"Not leap year.\")\n",
    "  else:\n",
    "    print(\"Leap year.\")\n",
    "else:\n",
    "  print(\"Not leap year.\")\n",
    "  "
   ],
   "metadata": {
    "collapsed": false,
    "ExecuteTime": {
     "end_time": "2024-02-23T14:08:31.797830200Z",
     "start_time": "2024-02-23T14:08:29.879076100Z"
    }
   },
   "id": "1f8ee48977e4655",
   "execution_count": 4
  },
  {
   "cell_type": "markdown",
   "source": [
    "## Debugging FizzBuzz\n",
    "\n",
    "### Instructions\n",
    "\n",
    "* Read this the code in main.py\n",
    "* Spot the problems 🐞.\n",
    "* Modify the code to fix the program.\n",
    "* No shortcuts - don't copy-paste to replace the code entirely with a working solution.\n",
    "\n",
    "The code needs to print the solution to the FizzBuzz game.\n",
    "\n",
    "* Your program should print each number from 1 to x where x is the input number.\n",
    "* However when the number is divisible by 3 then instead of printing the number it should print \"Fizz\".\n",
    "* When the number is divisible by 5, then instead of printing the number it should print \"Buzz\".\n",
    "* And if the number is divisible by both 3 and 5 e.g. 15 then instead of the number it should print \"FizzBuzz\".\n",
    "\n",
    "Fix the code so that it works:\n",
    "```\n",
    "target = int(input())\n",
    "for number in range(1, target + 1):\n",
    "  if number % 3 == 0 or number % 5 == 0:\n",
    "    print(\"FizzBuzz\")\n",
    "  if number % 3 == 0:\n",
    "    print(\"Fizz\")\n",
    "  if number % 5 == 0:\n",
    "    print(\"Buzz\")\n",
    "  else:\n",
    "    print([number])\n",
    "```"
   ],
   "metadata": {
    "collapsed": false
   },
   "id": "4000ba77b60d3972"
  },
  {
   "cell_type": "code",
   "outputs": [
    {
     "name": "stdout",
     "output_type": "stream",
     "text": [
      "1\n",
      "2\n",
      "Fizz\n",
      "4\n",
      "Buzz\n",
      "Fizz\n",
      "7\n",
      "8\n",
      "Fizz\n",
      "Buzz\n",
      "11\n",
      "Fizz\n",
      "13\n",
      "14\n",
      "FizzBuzz\n"
     ]
    }
   ],
   "source": [
    "target = int(input())\n",
    "for number in range(1, target + 1):\n",
    "  if number % 3 == 0 and number % 5 == 0:\n",
    "    print(\"FizzBuzz\")\n",
    "  elif number % 3 == 0:\n",
    "    print(\"Fizz\")\n",
    "  elif number % 5 == 0:\n",
    "    print(\"Buzz\")\n",
    "  else:\n",
    "    print(number)"
   ],
   "metadata": {
    "collapsed": false,
    "ExecuteTime": {
     "end_time": "2024-02-23T14:12:30.194246300Z",
     "start_time": "2024-02-23T14:12:28.860877500Z"
    }
   },
   "id": "dd25c06a99db5a1d",
   "execution_count": 6
  }
 ],
 "metadata": {
  "kernelspec": {
   "display_name": "Python 3",
   "language": "python",
   "name": "python3"
  },
  "language_info": {
   "codemirror_mode": {
    "name": "ipython",
    "version": 2
   },
   "file_extension": ".py",
   "mimetype": "text/x-python",
   "name": "python",
   "nbconvert_exporter": "python",
   "pygments_lexer": "ipython2",
   "version": "2.7.6"
  }
 },
 "nbformat": 4,
 "nbformat_minor": 5
}
