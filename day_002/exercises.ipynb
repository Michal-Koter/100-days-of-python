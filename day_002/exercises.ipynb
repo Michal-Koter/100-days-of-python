{
 "cells": [
  {
   "cell_type": "markdown",
   "id": "a94268de1ea6e65a",
   "metadata": {
    "collapsed": false
   },
   "source": [
    "# Exercises Day 1"
   ]
  },
  {
   "cell_type": "markdown",
   "id": "72e8aac3b3c8386e",
   "metadata": {
    "collapsed": false
   },
   "source": [
    "## Data Types\n",
    "\n",
    "### Instructions\n",
    "\n",
    "Write a program that adds the digits in a 2 digit number. e.g. if the input was 35, then the output should be 3 + 5 = 8\n",
    "\n",
    "Warning. Do not change the code on line 1. Your program should work for different inputs. e.g. any two-digit number.\n",
    "\n",
    "The last line of your program should print the result.\n",
    "\n",
    "### Example 1 Input\n",
    "39\n",
    "### Example 1 Output\n",
    "12\n",
    "### Example 2 Input\n",
    "43\n",
    "### Example 2 Output\n",
    "7"
   ]
  },
  {
   "cell_type": "code",
   "execution_count": 1,
   "id": "initial_id",
   "metadata": {
    "ExecuteTime": {
     "end_time": "2024-02-17T17:45:28.304709900Z",
     "start_time": "2024-02-17T17:45:26.525556600Z"
    },
    "collapsed": true,
    "jupyter": {
     "outputs_hidden": true
    }
   },
   "outputs": [
    {
     "name": "stdout",
     "output_type": "stream",
     "text": [
      "12\n"
     ]
    }
   ],
   "source": [
    "two_digit_number = input()\n",
    "# 🚨 Don't change the code above 👆\n",
    "####################################\n",
    "# Write your code below this line 👇\n",
    "\n",
    "sum = int(two_digit_number[0]) + int(two_digit_number[1])\n",
    "print(sum)"
   ]
  },
  {
   "cell_type": "markdown",
   "id": "993efbce7f17593",
   "metadata": {
    "collapsed": false
   },
   "source": [
    "## BMI Calculator\n",
    "\n",
    "### Instructions\n",
    "Write a program that calculates the Body Mass Index (BMI) from a user's weight and height.\n",
    "\n",
    "BMI Wikipedia Page\n",
    "\n",
    "The BMI is a measure of someone's weight taking into account their height. e.g. If a tall person and a short person both weigh the same amount, the short person is usually more overweight.\n",
    "\n",
    "The BMI is calculated by dividing a person's weight (in kg) by the square of their height (in m):\n",
    "\n",
    "BMI = weight(kg) / height<sup>2</sup> (m<sup>2</sup>)\n",
    "\n",
    "NOTE: You should convert the bmi to a whole number and print out a whole number in order to pass all the tests. See examples below.\n",
    "\n",
    "### Example Input 1\n",
    "1.75\n",
    "80\n",
    "means: weight = 80 and height = 1.75\n",
    "### Example Output 1\n",
    "26\n",
    "Since: 80 ÷ (1.75 x 1.75) = 26.122448979591837\n",
    "### Example Input 2\n",
    "1.58\n",
    "57\n",
    "### Example Output 2\n",
    "22"
   ]
  },
  {
   "cell_type": "code",
   "outputs": [
    {
     "name": "stdout",
     "output_type": "stream",
     "text": [
      "26\n"
     ]
    }
   ],
   "source": [
    "# 1st input: enter height in meters e.g: 1.65\n",
    "height = input()\n",
    "# 2nd input: enter weight in kilograms e.g: 72\n",
    "weight = input()\n",
    "# 🚨 Don't change the code above 👆\n",
    "\n",
    "# Write your code below this line 👇\n",
    "\n",
    "bmi = float(weight) / float(height)**2\n",
    "print(int(bmi))"
   ],
   "metadata": {
    "collapsed": false,
    "ExecuteTime": {
     "end_time": "2024-02-17T17:52:18.345926200Z",
     "start_time": "2024-02-17T17:52:10.161745500Z"
    }
   },
   "id": "8eed5be54d124797",
   "execution_count": 2
  },
  {
   "cell_type": "markdown",
   "source": [
    "##  Life In Weeks\n",
    "\n",
    "### Instructions\n",
    "I was reading this article by Tim Urban - Your Life in Weeks and realised just how little time we actually have.\n",
    "\n",
    "Create a program using maths and f-Strings that tells us how many weeks we have left, if we live until 90 years old.\n",
    "\n",
    "It will take your current age as the input and output a message with our time left in this format:\n",
    "\n",
    "You have x weeks left.\n",
    "Where x is replaced with the actual calculated number of weeks the input age has left until age 90.\n",
    "\n",
    "Warning your output should match the Example Output format exactly, even the positions of the commas and full stops.\n",
    "\n",
    "### Example Input\n",
    "56\n",
    "### Example Output\n",
    "You have 1768 weeks left."
   ],
   "metadata": {
    "collapsed": false
   },
   "id": "de08f94e1c34f158"
  },
  {
   "cell_type": "code",
   "outputs": [
    {
     "name": "stdout",
     "output_type": "stream",
     "text": [
      "You have 1768 weeks left.\n"
     ]
    }
   ],
   "source": [
    "age = input()\n",
    "# 🚨 Don't change the code above 👆\n",
    "# Write your code below this line 👇\n",
    "\n",
    "lifespan = 90\n",
    "weeks_in_year = 52\n",
    "weeks_left = (lifespan - int(age)) * weeks_in_year\n",
    "\n",
    "print(f\"You have {weeks_left} weeks left.\")"
   ],
   "metadata": {
    "collapsed": false,
    "ExecuteTime": {
     "end_time": "2024-02-17T18:01:52.847441100Z",
     "start_time": "2024-02-17T18:01:51.243289800Z"
    }
   },
   "id": "b5d1c08d8a0cd329",
   "execution_count": 4
  }
 ],
 "metadata": {
  "kernelspec": {
   "display_name": "Python 3 (ipykernel)",
   "language": "python",
   "name": "python3"
  },
  "language_info": {
   "codemirror_mode": {
    "name": "ipython",
    "version": 3
   },
   "file_extension": ".py",
   "mimetype": "text/x-python",
   "name": "python",
   "nbconvert_exporter": "python",
   "pygments_lexer": "ipython3",
   "version": "3.12.1"
  }
 },
 "nbformat": 4,
 "nbformat_minor": 5
}
